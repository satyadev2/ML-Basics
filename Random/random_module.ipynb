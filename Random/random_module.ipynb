{
 "cells": [
  {
   "cell_type": "code",
   "execution_count": 4,
   "metadata": {},
   "outputs": [],
   "source": [
    "import numpy as np"
   ]
  },
  {
   "cell_type": "markdown",
   "metadata": {},
   "source": [
    "1. numpy.random.seed(seed=None)\n",
    "Purpose: Initialize the random number generator for reproducibility.\n",
    "Example: np.random.seed(42)"
   ]
  },
  {
   "cell_type": "code",
   "execution_count": 6,
   "metadata": {},
   "outputs": [],
   "source": [
    "np.random.seed(42)"
   ]
  },
  {
   "cell_type": "markdown",
   "metadata": {},
   "source": [
    "2. numpy.random.rand(d0, d1, ..., dn)\n",
    "Purpose: Generate an array of random floats uniformly distributed over [0, 1) with the given shape.\n",
    "Example: np.random.rand(3, 2) generates a 3x2 array."
   ]
  },
  {
   "cell_type": "code",
   "execution_count": 9,
   "metadata": {},
   "outputs": [
    {
     "name": "stdout",
     "output_type": "stream",
     "text": [
      "[[0.54671028 0.18485446]\n",
      " [0.96958463 0.77513282]\n",
      " [0.93949894 0.89482735]]\n"
     ]
    }
   ],
   "source": [
    "print(np.random.rand(3,2))"
   ]
  },
  {
   "cell_type": "markdown",
   "metadata": {},
   "source": [
    "3. numpy.random.randn(d0, d1, ..., dn)\n",
    "Purpose: Generate an array of random floats from the standard normal distribution (mean 0, variance 1).\n",
    "Example: np.random.randn(3, 2) generates a 3x2 array."
   ]
  },
  {
   "cell_type": "code",
   "execution_count": 11,
   "metadata": {},
   "outputs": [
    {
     "name": "stdout",
     "output_type": "stream",
     "text": [
      "[[ 0.17136828 -0.11564828]\n",
      " [-0.3011037  -1.47852199]\n",
      " [-0.71984421 -0.46063877]]\n"
     ]
    }
   ],
   "source": [
    "print(np.random.randn(3,2))"
   ]
  },
  {
   "cell_type": "markdown",
   "metadata": {},
   "source": [
    "4. numpy.random.randint(low, high=None, size=None, dtype=int)\n",
    "Purpose: Generate random integers between low (inclusive) and high (exclusive). If high is not provided, it generates integers between 0 and low.\n",
    "Example: np.random.randint(0, 10, size=(3, 3)) generates a 3x3 array of random integers between 0 and 9."
   ]
  },
  {
   "cell_type": "code",
   "execution_count": 12,
   "metadata": {},
   "outputs": [
    {
     "name": "stdout",
     "output_type": "stream",
     "text": [
      "[[9 1]\n",
      " [9 7]\n",
      " [9 8]]\n"
     ]
    }
   ],
   "source": [
    "print(np.random.randint(1,10,(3,2)))"
   ]
  },
  {
   "cell_type": "markdown",
   "metadata": {},
   "source": [
    "5. numpy.random.choice(a, size=None, replace=True, p=None)\n",
    "Purpose: Generate a random sample from a given 1-D array or integer.\n",
    "Example: np.random.choice([1, 2, 3, 4, 5], size=3, replace=False) generates 3 unique random samples from the list."
   ]
  },
  {
   "cell_type": "code",
   "execution_count": 17,
   "metadata": {},
   "outputs": [
    {
     "name": "stdout",
     "output_type": "stream",
     "text": [
      "[13 12 14]\n"
     ]
    }
   ],
   "source": [
    "print(np.random.choice([12,13,14],3,replace=False))"
   ]
  },
  {
   "cell_type": "markdown",
   "metadata": {},
   "source": [
    "6. numpy.random.uniform(low=0.0, high=1.0, size=None)\n",
    "Purpose: Generate random floats uniformly distributed between low and high.\n",
    "Example: np.random.uniform(1.5, 5.5, size=(2, 3)) generates a 2x3 array."
   ]
  },
  {
   "cell_type": "code",
   "execution_count": 18,
   "metadata": {},
   "outputs": [
    {
     "name": "stdout",
     "output_type": "stream",
     "text": [
      "[[1.21191995 1.85260176 1.30215405]\n",
      " [1.82991935 1.70007716 0.89890135]\n",
      " [0.19082023 0.7416365  1.33768251]\n",
      " [1.33184471 1.18259558 0.54944359]]\n"
     ]
    }
   ],
   "source": [
    "print(np.random.uniform(0,2,(4,3)))"
   ]
  },
  {
   "cell_type": "markdown",
   "metadata": {},
   "source": [
    "7. numpy.random.normal(loc=0.0, scale=1.0, size=None)\n",
    "Purpose: Generate random numbers from a normal (Gaussian) distribution with mean loc and standard deviation scale.\n",
    "Example: np.random.normal(0, 1, size=(3, 3)) generates a 3x3 array."
   ]
  },
  {
   "cell_type": "markdown",
   "metadata": {},
   "source": [
    "8. numpy.random.random(size=None)\n",
    "Purpose: Generate random floats uniformly distributed over [0, 1).\n",
    "Example: np.random.random(size=(2, 3)) generates a 2x3 array."
   ]
  },
  {
   "cell_type": "code",
   "execution_count": 19,
   "metadata": {},
   "outputs": [
    {
     "data": {
      "text/plain": [
       "array([[0.56124343, 0.38292687, 0.9717121 ],\n",
       "       [0.84891382, 0.72172952, 0.23598492]])"
      ]
     },
     "execution_count": 19,
     "metadata": {},
     "output_type": "execute_result"
    }
   ],
   "source": [
    "np.random.random(size=(2, 3))"
   ]
  },
  {
   "cell_type": "markdown",
   "metadata": {},
   "source": [
    "9. numpy.random.beta(a, b, size=None)\n",
    "Purpose: Generate random numbers from a Beta distribution with parameters a and b.\n",
    "Example: np.random.beta(0.5, 0.5, size=5) generates an array of 5 elements.\n",
    "10. numpy.random.binomial(n, p, size=None)\n",
    "Purpose: Generate random numbers from a binomial distribution with n trials and probability p.\n",
    "Example: np.random.binomial(10, 0.5, size=10) generates an array of 10 elements.\n",
    "11. numpy.random.poisson(lam=1.0, size=None)\n",
    "Purpose: Generate random numbers from a Poisson distribution with rate parameter lam.\n",
    "Example: np.random.poisson(5, size=10) generates an array of 10 elements.\n",
    "12. numpy.random.gamma(shape, scale=1.0, size=None)\n",
    "Purpose: Generate random numbers from a Gamma distribution.\n",
    "Example: np.random.gamma(2.0, 2.0, size=5) generates an array of 5 elements"
   ]
  },
  {
   "cell_type": "markdown",
   "metadata": {},
   "source": [
    "13. numpy.random.permutation(x)\n",
    "Purpose: Randomly permute a sequence or return a permuted range.\n",
    "Example: np.random.permutation(10) returns a shuffled array [0, 1, ..., 9]."
   ]
  },
  {
   "cell_type": "code",
   "execution_count": 22,
   "metadata": {},
   "outputs": [
    {
     "name": "stdout",
     "output_type": "stream",
     "text": [
      "[8 0 4 1 9 5 7 2 6 3]\n",
      "<class 'numpy.ndarray'>\n"
     ]
    }
   ],
   "source": [
    "x=np.random.permutation(10)\n",
    "print(x)\n",
    "print(type(x))"
   ]
  },
  {
   "cell_type": "markdown",
   "metadata": {},
   "source": [
    "14. numpy.random.shuffle(x)\n",
    "Purpose: Shuffle the contents of an array in place."
   ]
  },
  {
   "cell_type": "code",
   "execution_count": 25,
   "metadata": {},
   "outputs": [
    {
     "name": "stdout",
     "output_type": "stream",
     "text": [
      "[0 4 2 9 6 5 8 3 7 1]\n"
     ]
    }
   ],
   "source": [
    "np.random.shuffle(x)\n",
    "print(x)\n"
   ]
  }
 ],
 "metadata": {
  "kernelspec": {
   "display_name": "Python 3",
   "language": "python",
   "name": "python3"
  },
  "language_info": {
   "codemirror_mode": {
    "name": "ipython",
    "version": 3
   },
   "file_extension": ".py",
   "mimetype": "text/x-python",
   "name": "python",
   "nbconvert_exporter": "python",
   "pygments_lexer": "ipython3",
   "version": "3.12.5"
  }
 },
 "nbformat": 4,
 "nbformat_minor": 2
}
