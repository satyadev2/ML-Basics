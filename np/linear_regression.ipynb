{
 "cells": [
  {
   "cell_type": "markdown",
   "metadata": {},
   "source": [
    "Linear Regression"
   ]
  },
  {
   "cell_type": "code",
   "execution_count": 1,
   "metadata": {},
   "outputs": [],
   "source": [
    "# from __future__ import absolute_import,division,print_function,unicode_literals\n",
    "\n",
    "import numpy as np\n",
    "import pandas as pd \n",
    "import matplotlib.pyplot as plt\n",
    "# from IPython.display import clear_output\n",
    "# from six.moves import urllib\n",
    "\n",
    "# import tensorflow.compat.v2.feature_column as fc\n",
    "import tensorflow as tf"
   ]
  },
  {
   "cell_type": "code",
   "execution_count": 2,
   "metadata": {},
   "outputs": [
    {
     "name": "stdout",
     "output_type": "stream",
     "text": [
      "\n",
      "\n",
      "         survived         age  n_siblings_spouses       parch        fare\n",
      "count  627.000000  627.000000          627.000000  627.000000  627.000000\n",
      "mean     0.387560   29.631308            0.545455    0.379585   34.385399\n",
      "std      0.487582   12.511818            1.151090    0.792999   54.597730\n",
      "min      0.000000    0.750000            0.000000    0.000000    0.000000\n",
      "25%      0.000000   23.000000            0.000000    0.000000    7.895800\n",
      "50%      0.000000   28.000000            0.000000    0.000000   15.045800\n",
      "75%      1.000000   35.000000            1.000000    0.000000   31.387500\n",
      "max      1.000000   80.000000            8.000000    5.000000  512.329200\n",
      "\n",
      "\n",
      "         survived         age  n_siblings_spouses       parch        fare\n",
      "count  264.000000  264.000000          264.000000  264.000000  264.000000\n",
      "mean     0.375000   28.720985            0.469697    0.386364   27.023880\n",
      "std      0.485042   14.157538            0.978393    0.837775   34.973108\n",
      "min      0.000000    0.420000            0.000000    0.000000    0.000000\n",
      "25%      0.000000   21.000000            0.000000    0.000000    7.925000\n",
      "50%      0.000000   28.000000            0.000000    0.000000   13.250000\n",
      "75%      1.000000   35.250000            1.000000    0.000000   27.900000\n",
      "max      1.000000   74.000000            8.000000    6.000000  263.000000\n",
      "\n",
      "\n",
      "   survived     sex   age  n_siblings_spouses  parch     fare  class     deck  \\\n",
      "0         0    male  22.0                   1      0   7.2500  Third  unknown   \n",
      "1         1  female  38.0                   1      0  71.2833  First        C   \n",
      "2         1  female  26.0                   0      0   7.9250  Third  unknown   \n",
      "3         1  female  35.0                   1      0  53.1000  First        C   \n",
      "4         0    male  28.0                   0      0   8.4583  Third  unknown   \n",
      "\n",
      "   embark_town alone  \n",
      "0  Southampton     n  \n",
      "1    Cherbourg     n  \n",
      "2  Southampton     y  \n",
      "3  Southampton     n  \n",
      "4   Queenstown     y  \n",
      "\n",
      "\n",
      "   survived     sex   age  n_siblings_spouses  parch     fare   class  \\\n",
      "0         0    male  35.0                   0      0   8.0500   Third   \n",
      "1         0    male  54.0                   0      0  51.8625   First   \n",
      "2         1  female  58.0                   0      0  26.5500   First   \n",
      "3         1  female  55.0                   0      0  16.0000  Second   \n",
      "4         1    male  34.0                   0      0  13.0000  Second   \n",
      "\n",
      "      deck  embark_town alone  \n",
      "0  unknown  Southampton     y  \n",
      "1        E  Southampton     y  \n",
      "2        C  Southampton     y  \n",
      "3  unknown  Southampton     y  \n",
      "4        D  Southampton     y  \n",
      "(627, 10)\n",
      "(264, 10)\n"
     ]
    }
   ],
   "source": [
    "data_train=pd.read_csv(\"train.csv\")\n",
    "data_eval=pd.read_csv(\"eval.csv\")\n",
    "print()\n",
    "print()\n",
    "print(data_train.describe())\n",
    "print()\n",
    "print()\n",
    "print(data_eval.describe())\n",
    "print()\n",
    "print()\n",
    "print(data_train.head(5))\n",
    "print()\n",
    "print()\n",
    "print(data_eval.head(5))\n",
    "print(data_train.shape)\n",
    "print(data_eval.shape)"
   ]
  },
  {
   "cell_type": "code",
   "execution_count": 4,
   "metadata": {},
   "outputs": [
    {
     "name": "stdout",
     "output_type": "stream",
     "text": [
      "\n",
      "\n",
      "      sex   age  n_siblings_spouses  parch     fare  class     deck  \\\n",
      "0    male  22.0                   1      0   7.2500  Third  unknown   \n",
      "1  female  38.0                   1      0  71.2833  First        C   \n",
      "2  female  26.0                   0      0   7.9250  Third  unknown   \n",
      "3  female  35.0                   1      0  53.1000  First        C   \n",
      "4    male  28.0                   0      0   8.4583  Third  unknown   \n",
      "\n",
      "   embark_town alone  \n",
      "0  Southampton     n  \n",
      "1    Cherbourg     n  \n",
      "2  Southampton     y  \n",
      "3  Southampton     n  \n",
      "4   Queenstown     y  \n",
      "\n",
      "\n",
      "      sex   age  n_siblings_spouses  parch     fare   class     deck  \\\n",
      "0    male  35.0                   0      0   8.0500   Third  unknown   \n",
      "1    male  54.0                   0      0  51.8625   First        E   \n",
      "2  female  58.0                   0      0  26.5500   First        C   \n",
      "3  female  55.0                   0      0  16.0000  Second  unknown   \n",
      "4    male  34.0                   0      0  13.0000  Second        D   \n",
      "\n",
      "   embark_town alone  \n",
      "0  Southampton     y  \n",
      "1  Southampton     y  \n",
      "2  Southampton     y  \n",
      "3  Southampton     y  \n",
      "4  Southampton     y  \n"
     ]
    }
   ],
   "source": [
    "y_train=data_train.pop('survived')\n",
    "y_eval=data_eval.pop('survived')\n",
    "print(y_train)\n",
    "print(y_eval)\n",
    "print()\n",
    "print()\n",
    "print(data_train.head(5))\n",
    "print()\n",
    "print()\n",
    "print(data_eval.head(5))\n"
   ]
  },
  {
   "cell_type": "code",
   "execution_count": 6,
   "metadata": {},
   "outputs": [
    {
     "name": "stdout",
     "output_type": "stream",
     "text": [
      "sex                          male\n",
      "age                          22.0\n",
      "n_siblings_spouses              1\n",
      "parch                           0\n",
      "fare                         7.25\n",
      "class                       Third\n",
      "deck                      unknown\n",
      "embark_town           Southampton\n",
      "alone                           n\n",
      "Name: 0, dtype: object 0\n"
     ]
    }
   ],
   "source": [
    "print(data_train.loc[0],y_train.loc[0],)"
   ]
  },
  {
   "cell_type": "code",
   "execution_count": 13,
   "metadata": {},
   "outputs": [
    {
     "data": {
      "text/plain": [
       "<Axes: >"
      ]
     },
     "execution_count": 13,
     "metadata": {},
     "output_type": "execute_result"
    },
    {
     "data": {
      "image/png": "[encoded data removed]",
      "text/plain": [
       "<Figure size 640x480 with 1 Axes>"
      ]
     },
     "metadata": {},
     "output_type": "display_data"
    }
   ],
   "source": [
    "data_train.age.hist(bins=80)"
   ]
  }
 ],
 "metadata": {
  "kernelspec": {
   "display_name": "Python 3",
   "language": "python",
   "name": "python3"
  },
  "language_info": {
   "codemirror_mode": {
    "name": "ipython",
    "version": 3
   },
   "file_extension": ".py",
   "mimetype": "text/x-python",
   "name": "python",
   "nbconvert_exporter": "python",
   "pygments_lexer": "ipython3",
   "version": "3.12.5"
  }
 },
 "nbformat": 4,
 "nbformat_minor": 2
}
