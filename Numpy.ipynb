{
  "nbformat": 4,
  "nbformat_minor": 0,
  "metadata": {
    "colab": {
      "provenance": []
    },
    "kernelspec": {
      "name": "python3",
      "display_name": "Python 3"
    },
    "language_info": {
      "name": "python"
    }
  },
  "cells": [
    {
      "cell_type": "markdown",
      "source": [
        "#CREATING NUMPY ARRAYS"
      ],
      "metadata": {
        "id": "5u0VJdNTn3NY"
      }
    },
    {
      "cell_type": "code",
      "execution_count": null,
      "metadata": {
        "id": "PrUf6g1IlMPO"
      },
      "outputs": [],
      "source": [
        "import numpy as np"
      ]
    },
    {
      "cell_type": "code",
      "source": [
        "#np array\n",
        "a=np.array([1,2,3])\n",
        "print(a)"
      ],
      "metadata": {
        "colab": {
          "base_uri": "https://localhost:8080/"
        },
        "id": "-M8_E81clP0f",
        "outputId": "62139e90-56ee-4627-d8ca-ddb110591d91"
      },
      "execution_count": null,
      "outputs": [
        {
          "output_type": "stream",
          "name": "stdout",
          "text": [
            "[1 2 3]\n"
          ]
        }
      ]
    },
    {
      "cell_type": "code",
      "source": [
        "#2d / 3d\n",
        "d2=np.array([[1,2],[2,3]])\n",
        "print(b)\n",
        "print()\n",
        "d3=np.array([[[1],[2],[3]]])\n",
        "print(d3)"
      ],
      "metadata": {
        "colab": {
          "base_uri": "https://localhost:8080/"
        },
        "id": "wtC6b8GYladt",
        "outputId": "6bf6f869-cdcd-4d05-d400-620e9f49caae"
      },
      "execution_count": null,
      "outputs": [
        {
          "output_type": "stream",
          "name": "stdout",
          "text": [
            "[[1 2]\n",
            " [2 3]]\n",
            "\n",
            "[[[1]\n",
            "  [2]\n",
            "  [3]]]\n"
          ]
        }
      ]
    },
    {
      "cell_type": "code",
      "source": [
        "#dtype\n",
        "print(np.array([1,2,3],dtype=float))\n",
        "print(np.array([1,0,3],dtype=bool))"
      ],
      "metadata": {
        "colab": {
          "base_uri": "https://localhost:8080/"
        },
        "id": "CaSuNttolmvR",
        "outputId": "14b99f17-5982-4414-c29c-531eb12d4006"
      },
      "execution_count": null,
      "outputs": [
        {
          "output_type": "stream",
          "name": "stdout",
          "text": [
            "[1. 2. 3.]\n",
            "[ True False  True]\n"
          ]
        }
      ]
    },
    {
      "cell_type": "code",
      "source": [
        "#np.arange -- sprites 3rd arg\n",
        "np.arange(1,11)"
      ],
      "metadata": {
        "colab": {
          "base_uri": "https://localhost:8080/"
        },
        "id": "MFte1nI0mKMw",
        "outputId": "faeeab88-2ba5-4c80-942e-1f5448ecdd1d"
      },
      "execution_count": null,
      "outputs": [
        {
          "output_type": "execute_result",
          "data": {
            "text/plain": [
              "array([ 1,  2,  3,  4,  5,  6,  7,  8,  9, 10])"
            ]
          },
          "metadata": {},
          "execution_count": 16
        }
      ]
    },
    {
      "cell_type": "code",
      "source": [
        "#reshape\n",
        "np.arange(1,11).reshape(5,2)"
      ],
      "metadata": {
        "colab": {
          "base_uri": "https://localhost:8080/"
        },
        "id": "r8_PUCCGmNZ7",
        "outputId": "60a89a47-8eac-4a42-fb01-63ed23bd3e97"
      },
      "execution_count": null,
      "outputs": [
        {
          "output_type": "execute_result",
          "data": {
            "text/plain": [
              "array([[ 1,  2],\n",
              "       [ 3,  4],\n",
              "       [ 5,  6],\n",
              "       [ 7,  8],\n",
              "       [ 9, 10]])"
            ]
          },
          "metadata": {},
          "execution_count": 18
        }
      ]
    },
    {
      "cell_type": "code",
      "source": [
        "#np.ones and np.zeroes\n",
        "print(np.ones((3,4)))\n",
        "print()\n",
        "print(np.zeros((2,6)))"
      ],
      "metadata": {
        "colab": {
          "base_uri": "https://localhost:8080/"
        },
        "id": "9o86ARA8mqtR",
        "outputId": "a8edbf5a-d72f-4b8a-861d-dd34b2244d67"
      },
      "execution_count": null,
      "outputs": [
        {
          "output_type": "stream",
          "name": "stdout",
          "text": [
            "[[1. 1. 1. 1.]\n",
            " [1. 1. 1. 1.]\n",
            " [1. 1. 1. 1.]]\n",
            "\n",
            "[[0. 0. 0. 0. 0. 0.]\n",
            " [0. 0. 0. 0. 0. 0.]]\n"
          ]
        }
      ]
    },
    {
      "cell_type": "code",
      "source": [
        "#np.random -- generate numbers between 0 and 1\n",
        "np.random.random((3,4))"
      ],
      "metadata": {
        "colab": {
          "base_uri": "https://localhost:8080/"
        },
        "id": "bG8RAoF9m9Lc",
        "outputId": "fe2055b5-a4eb-403b-e56c-ba8e57b5250e"
      },
      "execution_count": null,
      "outputs": [
        {
          "output_type": "execute_result",
          "data": {
            "text/plain": [
              "array([[0.7935378 , 0.10479336, 0.04668009, 0.93156197],\n",
              "       [0.10425117, 0.18985188, 0.64044235, 0.42555989],\n",
              "       [0.63739468, 0.0287978 , 0.18389581, 0.67582863]])"
            ]
          },
          "metadata": {},
          "execution_count": 26
        }
      ]
    },
    {
      "cell_type": "code",
      "source": [
        "#np.linspace(lower range,upper range,how amny numbers,dtype=int/float by default)---generate points in equal space\n",
        "np.linspace(-10,10,10)"
      ],
      "metadata": {
        "colab": {
          "base_uri": "https://localhost:8080/"
        },
        "id": "1RRVSGTInQkz",
        "outputId": "afecb833-49d1-4033-e79c-0965215e7dd0"
      },
      "execution_count": null,
      "outputs": [
        {
          "output_type": "execute_result",
          "data": {
            "text/plain": [
              "array([-10.        ,  -7.77777778,  -5.55555556,  -3.33333333,\n",
              "        -1.11111111,   1.11111111,   3.33333333,   5.55555556,\n",
              "         7.77777778,  10.        ])"
            ]
          },
          "metadata": {},
          "execution_count": 32
        }
      ]
    },
    {
      "cell_type": "code",
      "source": [
        "#np.identity --identity matrix (n*n)\n",
        "np.identity(3)"
      ],
      "metadata": {
        "colab": {
          "base_uri": "https://localhost:8080/"
        },
        "id": "AMlPTQttneg2",
        "outputId": "ea163a4d-b6ac-445c-e58d-71af3a747c12"
      },
      "execution_count": null,
      "outputs": [
        {
          "output_type": "execute_result",
          "data": {
            "text/plain": [
              "array([[1., 0., 0.],\n",
              "       [0., 1., 0.],\n",
              "       [0., 0., 1.]])"
            ]
          },
          "metadata": {},
          "execution_count": 33
        }
      ]
    },
    {
      "cell_type": "markdown",
      "source": [
        "#ATTRBUTES"
      ],
      "metadata": {
        "id": "Sd9sncCRn6PM"
      }
    },
    {
      "cell_type": "code",
      "source": [
        "a1=np.arange(10)\n",
        "a2=np.arange(12,dtype=float).reshape(3,4)\n",
        "a3=np.arange(8).reshape(2,2,2)\n",
        "print(a1)\n",
        "print()\n",
        "print(a2)\n",
        "print()\n",
        "print(a3)"
      ],
      "metadata": {
        "colab": {
          "base_uri": "https://localhost:8080/"
        },
        "id": "ZrKodKyfnzAR",
        "outputId": "46ec7700-d1f0-41d9-d79a-4f06b570b49c"
      },
      "execution_count": null,
      "outputs": [
        {
          "output_type": "stream",
          "name": "stdout",
          "text": [
            "[0 1 2 3 4 5 6 7 8 9]\n",
            "\n",
            "[[ 0.  1.  2.  3.]\n",
            " [ 4.  5.  6.  7.]\n",
            " [ 8.  9. 10. 11.]]\n",
            "\n",
            "[[[0 1]\n",
            "  [2 3]]\n",
            "\n",
            " [[4 5]\n",
            "  [6 7]]]\n"
          ]
        }
      ]
    },
    {
      "cell_type": "code",
      "source": [
        "#ndim\n",
        "print(a1.ndim)\n",
        "print(a2.ndim)\n",
        "print(a3.ndim)"
      ],
      "metadata": {
        "colab": {
          "base_uri": "https://localhost:8080/"
        },
        "id": "bD7cux7VoatH",
        "outputId": "efa0c059-4f2b-4d77-a043-fa0e0cc88593"
      },
      "execution_count": null,
      "outputs": [
        {
          "output_type": "stream",
          "name": "stdout",
          "text": [
            "1\n",
            "2\n",
            "3\n"
          ]
        }
      ]
    },
    {
      "cell_type": "code",
      "source": [
        "#shape\n",
        "print(a1.shape)\n",
        "print(a2.shape)\n",
        "print(a3.shape)"
      ],
      "metadata": {
        "colab": {
          "base_uri": "https://localhost:8080/"
        },
        "id": "H4O9suCdoqy_",
        "outputId": "b2b23598-e105-4f09-b580-78c780b14a01"
      },
      "execution_count": null,
      "outputs": [
        {
          "output_type": "stream",
          "name": "stdout",
          "text": [
            "(10,)\n",
            "(3, 4)\n",
            "(2, 2, 2)\n"
          ]
        }
      ]
    },
    {
      "cell_type": "code",
      "source": [
        "#size---total number of elements\n",
        "print(a1.size)\n",
        "print(a2.size)\n",
        "print(a3.size)"
      ],
      "metadata": {
        "colab": {
          "base_uri": "https://localhost:8080/"
        },
        "id": "-I5NjEsfox2V",
        "outputId": "76b2825e-94d6-463e-9b09-5adcd14d700d"
      },
      "execution_count": null,
      "outputs": [
        {
          "output_type": "stream",
          "name": "stdout",
          "text": [
            "10\n",
            "12\n",
            "8\n"
          ]
        }
      ]
    },
    {
      "cell_type": "code",
      "source": [
        "#dtype\n",
        "print(a1.dtype)"
      ],
      "metadata": {
        "colab": {
          "base_uri": "https://localhost:8080/"
        },
        "id": "kLxPREgYpMHM",
        "outputId": "4d54d437-2a8b-4ec2-d8ae-8897ad54ec9f"
      },
      "execution_count": null,
      "outputs": [
        {
          "output_type": "stream",
          "name": "stdout",
          "text": [
            "int64\n"
          ]
        }
      ]
    },
    {
      "cell_type": "markdown",
      "source": [
        "#CHANGING DATATYPES"
      ],
      "metadata": {
        "id": "FYpzs64NqxBk"
      }
    },
    {
      "cell_type": "code",
      "source": [
        "#astype\n",
        "a1.astype(np.int32)"
      ],
      "metadata": {
        "colab": {
          "base_uri": "https://localhost:8080/"
        },
        "id": "yqkWKaqFpXKS",
        "outputId": "1ba897cf-9b24-4e54-eec0-d50a1fc7f7a1"
      },
      "execution_count": null,
      "outputs": [
        {
          "output_type": "execute_result",
          "data": {
            "text/plain": [
              "array([0, 1, 2, 3, 4, 5, 6, 7, 8, 9], dtype=int32)"
            ]
          },
          "metadata": {},
          "execution_count": 42
        }
      ]
    },
    {
      "cell_type": "markdown",
      "source": [
        "#ARRAY OPERATIONS"
      ],
      "metadata": {
        "id": "bdNmDMc3tzQN"
      }
    },
    {
      "cell_type": "code",
      "source": [
        "#reshape"
      ],
      "metadata": {
        "id": "VTxQO_QytwPE"
      },
      "execution_count": null,
      "outputs": []
    },
    {
      "cell_type": "code",
      "source": [
        "#scalar operation(all will work)\n",
        "a1*2"
      ],
      "metadata": {
        "colab": {
          "base_uri": "https://localhost:8080/"
        },
        "id": "ZwDXyJpXuOkn",
        "outputId": "c0559128-5666-467d-9f8f-ad47da50475b"
      },
      "execution_count": null,
      "outputs": [
        {
          "output_type": "execute_result",
          "data": {
            "text/plain": [
              "array([ 0,  2,  4,  6,  8, 10, 12, 14, 16, 18])"
            ]
          },
          "metadata": {},
          "execution_count": 45
        }
      ]
    },
    {
      "cell_type": "code",
      "source": [
        "#relational operators(<,<=,>,>=,==)\n",
        "a2>5"
      ],
      "metadata": {
        "colab": {
          "base_uri": "https://localhost:8080/"
        },
        "id": "MWgWDOuZuWjr",
        "outputId": "86218535-4178-4447-9de7-35ed2a3e1f51"
      },
      "execution_count": null,
      "outputs": [
        {
          "output_type": "execute_result",
          "data": {
            "text/plain": [
              "array([[False, False, False, False],\n",
              "       [False, False,  True,  True],\n",
              "       [ True,  True,  True,  True]])"
            ]
          },
          "metadata": {},
          "execution_count": 47
        }
      ]
    },
    {
      "cell_type": "code",
      "source": [
        "#vector operations\n",
        "x=np.array([[1,2],[3,4]])\n",
        "y=np.array([[9,2],[4,1]])\n",
        "print(x+y)\n",
        "print()\n",
        "print(x/)\n",
        "print(x*y)"
      ],
      "metadata": {
        "colab": {
          "base_uri": "https://localhost:8080/"
        },
        "id": "kPXyAmi4ug1Y",
        "outputId": "bf2bb776-f89d-4e1d-d74a-e278a2d7181c"
      },
      "execution_count": null,
      "outputs": [
        {
          "output_type": "stream",
          "name": "stdout",
          "text": [
            "[[10  4]\n",
            " [ 7  5]]\n",
            "[[ 9  4]\n",
            " [12  4]]\n"
          ]
        }
      ]
    },
    {
      "cell_type": "markdown",
      "source": [
        "#ARRAY FUNCTIONS"
      ],
      "metadata": {
        "id": "WWtDvd46v0AA"
      }
    },
    {
      "cell_type": "code",
      "source": [
        "a1=np.random.random((3,3))\n",
        "a1=np.round(a1*100)\n",
        "print(a1)"
      ],
      "metadata": {
        "colab": {
          "base_uri": "https://localhost:8080/"
        },
        "id": "J4WS_E01v7TP",
        "outputId": "5f137a8d-60b4-4c8c-b0ad-dab9774f60db"
      },
      "execution_count": 55,
      "outputs": [
        {
          "output_type": "stream",
          "name": "stdout",
          "text": [
            "[[40. 80. 63.]\n",
            " [54. 77. 23.]\n",
            " [43. 51. 19.]]\n"
          ]
        }
      ]
    },
    {
      "cell_type": "code",
      "source": [
        "#min/max/sum/prod\n",
        "print(np.max(a1))\n",
        "print(np.min(a1))\n",
        "print(np.sum(a1))\n",
        "print(np.prod(a1))"
      ],
      "metadata": {
        "id": "o3nIPUZfuu1a",
        "colab": {
          "base_uri": "https://localhost:8080/"
        },
        "outputId": "a4ef7a21-bbc2-446e-fe4d-cc72049fd78f"
      },
      "execution_count": 57,
      "outputs": [
        {
          "output_type": "stream",
          "name": "stdout",
          "text": [
            "80.0\n",
            "19.0\n",
            "450.0\n",
            "803332026604800.0\n"
          ]
        }
      ]
    },
    {
      "cell_type": "code",
      "source": [
        "#getting row or column wise anything\n",
        "print(np.max(a1,axis=1)) #row\n",
        "print(np.max(a1,axis=0)) #col"
      ],
      "metadata": {
        "colab": {
          "base_uri": "https://localhost:8080/"
        },
        "id": "8d4X3ogjwILK",
        "outputId": "f00e162f-777c-4778-9e02-3194e510e031"
      },
      "execution_count": 60,
      "outputs": [
        {
          "output_type": "stream",
          "name": "stdout",
          "text": [
            "[80. 77. 51.]\n",
            "[54. 80. 63.]\n"
          ]
        }
      ]
    },
    {
      "cell_type": "code",
      "source": [
        "#mean,median,mode -- also axis=0/1 can be done\n",
        "np.mean(a1)"
      ],
      "metadata": {
        "colab": {
          "base_uri": "https://localhost:8080/"
        },
        "id": "DLHKk3Plwab3",
        "outputId": "4a56dcfe-8e93-4308-f6e9-f06594041591"
      },
      "execution_count": 62,
      "outputs": [
        {
          "output_type": "execute_result",
          "data": {
            "text/plain": [
              "50.0"
            ]
          },
          "metadata": {},
          "execution_count": 62
        }
      ]
    },
    {
      "cell_type": "code",
      "source": [
        "#trignometreic functions\n",
        "np.sin(a1)"
      ],
      "metadata": {
        "colab": {
          "base_uri": "https://localhost:8080/"
        },
        "id": "op0QJ9a0ww16",
        "outputId": "d4077466-36ac-45a3-c570-078004f7762e"
      },
      "execution_count": 63,
      "outputs": [
        {
          "output_type": "execute_result",
          "data": {
            "text/plain": [
              "array([[ 0.74511316, -0.99388865,  0.1673557 ],\n",
              "       [-0.55878905,  0.99952016, -0.8462204 ],\n",
              "       [-0.83177474,  0.67022918,  0.14987721]])"
            ]
          },
          "metadata": {},
          "execution_count": 63
        }
      ]
    },
    {
      "cell_type": "code",
      "source": [
        "#dot product\n",
        "mat1=np.random.random((3,4))\n",
        "print(mat1)\n",
        "print()\n",
        "mat2=np.random.random((4,1))\n",
        "print(mat2)\n",
        "print()\n",
        "print(np.dot(mat1,mat2))\n",
        "print()"
      ],
      "metadata": {
        "colab": {
          "base_uri": "https://localhost:8080/"
        },
        "id": "G_1KMUQyw6xf",
        "outputId": "7cb61da3-febe-4cfb-9717-055f64f1ea0c"
      },
      "execution_count": 68,
      "outputs": [
        {
          "output_type": "stream",
          "name": "stdout",
          "text": [
            "[[0.29289072 0.42464201 0.36232509 0.16028432]\n",
            " [0.32943697 0.73167435 0.84172421 0.69262086]\n",
            " [0.11582855 0.00095743 0.23749285 0.3996562 ]]\n",
            "\n",
            "[[0.82946005]\n",
            " [0.98375864]\n",
            " [0.20250279]\n",
            " [0.43481502]]\n",
            "\n",
            "[[0.80375226]\n",
            " [1.46465922]\n",
            " [0.31888652]]\n",
            "\n"
          ]
        }
      ]
    },
    {
      "cell_type": "code",
      "source": [
        "#log and exponents\n",
        "print(np.log(a1))\n",
        "print(np.exp(a1))"
      ],
      "metadata": {
        "colab": {
          "base_uri": "https://localhost:8080/"
        },
        "id": "pHN8PaVtxLvv",
        "outputId": "2fe20180-3d47-4b73-d46b-4a46db5db9ce"
      },
      "execution_count": 71,
      "outputs": [
        {
          "output_type": "stream",
          "name": "stdout",
          "text": [
            "[[3.68887945 4.38202663 4.14313473]\n",
            " [3.98898405 4.34380542 3.13549422]\n",
            " [3.76120012 3.93182563 2.94443898]]\n",
            "[[2.35385267e+17 5.54062238e+34 2.29378316e+27]\n",
            " [2.83075330e+23 2.75851345e+33 9.74480345e+09]\n",
            " [4.72783947e+18 1.40934908e+22 1.78482301e+08]]\n"
          ]
        }
      ]
    },
    {
      "cell_type": "code",
      "source": [
        "#round/floor/ceil\n",
        "x=np.random.random((2,2))*100\n",
        "print(x)\n",
        "print()\n",
        "print(np.round(x))\n",
        "print()\n",
        "print(np.ceil(x))\n",
        "print()\n",
        "print(np.floor(x))\n",
        "print()"
      ],
      "metadata": {
        "colab": {
          "base_uri": "https://localhost:8080/"
        },
        "id": "EhEGXxWzxqNq",
        "outputId": "430f08e4-2cae-4ad3-a79c-585083f009cf"
      },
      "execution_count": 78,
      "outputs": [
        {
          "output_type": "stream",
          "name": "stdout",
          "text": [
            "[[31.33384164 87.50772657]\n",
            " [93.98013169  5.32139225]]\n",
            "\n",
            "[[31. 88.]\n",
            " [94.  5.]]\n",
            "\n",
            "[[32. 88.]\n",
            " [94.  6.]]\n",
            "\n",
            "[[31. 87.]\n",
            " [93.  5.]]\n",
            "\n"
          ]
        }
      ]
    },
    {
      "cell_type": "markdown",
      "source": [
        "#INDEXING AND SLICING"
      ],
      "metadata": {
        "id": "bFqq0kwPyarA"
      }
    },
    {
      "cell_type": "code",
      "source": [
        "a1=np.arange(10)\n",
        "a2=np.arange(12).reshape(3,4)\n",
        "a3=np.arange(8).reshape(2,2,2)\n",
        "print(a1)\n",
        "print()\n",
        "print(a2)\n",
        "print()\n",
        "print(a3)\n",
        "print()"
      ],
      "metadata": {
        "colab": {
          "base_uri": "https://localhost:8080/"
        },
        "id": "TEDlN_2Mx10c",
        "outputId": "bd41e0b9-7e49-403c-cfe7-e2e731f3f325"
      },
      "execution_count": 81,
      "outputs": [
        {
          "output_type": "stream",
          "name": "stdout",
          "text": [
            "[0 1 2 3 4 5 6 7 8 9]\n",
            "\n",
            "[[ 0  1  2  3]\n",
            " [ 4  5  6  7]\n",
            " [ 8  9 10 11]]\n",
            "\n",
            "[[[0 1]\n",
            "  [2 3]]\n",
            "\n",
            " [[4 5]\n",
            "  [6 7]]]\n",
            "\n"
          ]
        }
      ]
    },
    {
      "cell_type": "code",
      "source": [
        "#finding element\n",
        "print(a2[1][2])\n",
        "print(a2[1,2])\n",
        "print(a3[1,0,1]) #which 2d -> which row ->which col"
      ],
      "metadata": {
        "colab": {
          "base_uri": "https://localhost:8080/"
        },
        "id": "DjAeyWikyofa",
        "outputId": "8a06db6f-7a50-45ab-82d7-2eabcb9e99a6"
      },
      "execution_count": 85,
      "outputs": [
        {
          "output_type": "stream",
          "name": "stdout",
          "text": [
            "6\n",
            "6\n",
            "5\n"
          ]
        }
      ]
    },
    {
      "cell_type": "code",
      "source": [
        "a1[2:7] #1d"
      ],
      "metadata": {
        "colab": {
          "base_uri": "https://localhost:8080/"
        },
        "id": "dTOP2AjFy9Zk",
        "outputId": "400f8e40-166a-47a3-d2bb-9332e9609ce2"
      },
      "execution_count": 87,
      "outputs": [
        {
          "output_type": "execute_result",
          "data": {
            "text/plain": [
              "array([2, 3, 4, 5, 6])"
            ]
          },
          "metadata": {},
          "execution_count": 87
        }
      ]
    },
    {
      "cell_type": "code",
      "source": [
        "print(a2[0,:]) #1st row ,all columns\n",
        "print(a2[:,3]) #3rd column, all rows"
      ],
      "metadata": {
        "colab": {
          "base_uri": "https://localhost:8080/"
        },
        "id": "UnuKTULS0IGQ",
        "outputId": "02868234-89c7-4b10-bd9f-a072b81d1b32"
      },
      "execution_count": 89,
      "outputs": [
        {
          "output_type": "stream",
          "name": "stdout",
          "text": [
            "[0 1 2 3]\n",
            "[ 3  7 11]\n"
          ]
        }
      ]
    },
    {
      "cell_type": "code",
      "source": [
        "#sexy as fuck--fetch 5,6,9,10\n",
        "a2[1:,1:3]"
      ],
      "metadata": {
        "colab": {
          "base_uri": "https://localhost:8080/"
        },
        "id": "esGR_9K10avV",
        "outputId": "3b78b8a8-4437-49e7-b4f8-07524a1f68de"
      },
      "execution_count": 90,
      "outputs": [
        {
          "output_type": "execute_result",
          "data": {
            "text/plain": [
              "array([[ 5,  6],\n",
              "       [ 9, 10]])"
            ]
          },
          "metadata": {},
          "execution_count": 90
        }
      ]
    },
    {
      "cell_type": "markdown",
      "source": [
        "#ITERATION OVER NUMPY ARRAYS"
      ],
      "metadata": {
        "id": "9xMjQuB11WRc"
      }
    },
    {
      "cell_type": "code",
      "source": [
        "a1\n",
        "for i in a1:\n",
        "  print(i)"
      ],
      "metadata": {
        "colab": {
          "base_uri": "https://localhost:8080/"
        },
        "id": "FmZJvMYf1bQU",
        "outputId": "bd5bc4f6-1b85-4185-a7ab-cd9fdab435bc"
      },
      "execution_count": 94,
      "outputs": [
        {
          "output_type": "stream",
          "name": "stdout",
          "text": [
            "0\n",
            "1\n",
            "2\n",
            "3\n",
            "4\n",
            "5\n",
            "6\n",
            "7\n",
            "8\n",
            "9\n"
          ]
        }
      ]
    },
    {
      "cell_type": "code",
      "source": [
        "a2\n",
        "for i in a2:\n",
        "  print(i)"
      ],
      "metadata": {
        "colab": {
          "base_uri": "https://localhost:8080/"
        },
        "id": "Es5Jk6ij0v2i",
        "outputId": "021a39e0-ef2a-44b6-8d61-3cbccc0733ab"
      },
      "execution_count": 95,
      "outputs": [
        {
          "output_type": "stream",
          "name": "stdout",
          "text": [
            "[0 1 2 3]\n",
            "[4 5 6 7]\n",
            "[ 8  9 10 11]\n"
          ]
        }
      ]
    },
    {
      "cell_type": "code",
      "source": [
        "a3\n",
        "for i in a3:\n",
        "  print(i)"
      ],
      "metadata": {
        "colab": {
          "base_uri": "https://localhost:8080/"
        },
        "id": "qLCzFUhZ1dmk",
        "outputId": "f128af86-423d-4c45-91d6-7455230d33a1"
      },
      "execution_count": 96,
      "outputs": [
        {
          "output_type": "stream",
          "name": "stdout",
          "text": [
            "[[0 1]\n",
            " [2 3]]\n",
            "[[4 5]\n",
            " [6 7]]\n"
          ]
        }
      ]
    },
    {
      "cell_type": "code",
      "source": [
        "#flatterns in 1d and then itwerates #nditer(array)\n",
        "for i in np.nditer(a3):\n",
        "  print(i)"
      ],
      "metadata": {
        "colab": {
          "base_uri": "https://localhost:8080/"
        },
        "id": "4VZtq_RH1ecR",
        "outputId": "e6064269-52ae-4ebc-f938-e8bf9a719fa7"
      },
      "execution_count": 98,
      "outputs": [
        {
          "output_type": "stream",
          "name": "stdout",
          "text": [
            "0\n",
            "1\n",
            "2\n",
            "3\n",
            "4\n",
            "5\n",
            "6\n",
            "7\n"
          ]
        }
      ]
    },
    {
      "cell_type": "markdown",
      "source": [
        "#RESHAPING TRANSPOSE RAVEL"
      ],
      "metadata": {
        "id": "3UiNSlFh2F5f"
      }
    },
    {
      "cell_type": "code",
      "source": [
        "print(a2)\n",
        "print(a2.T)"
      ],
      "metadata": {
        "colab": {
          "base_uri": "https://localhost:8080/"
        },
        "id": "DV_9pa3g12a8",
        "outputId": "b9a10714-5079-49e0-e43a-ef1d929ec304"
      },
      "execution_count": 100,
      "outputs": [
        {
          "output_type": "stream",
          "name": "stdout",
          "text": [
            "[[ 0  1  2  3]\n",
            " [ 4  5  6  7]\n",
            " [ 8  9 10 11]]\n",
            "[[ 0  4  8]\n",
            " [ 1  5  9]\n",
            " [ 2  6 10]\n",
            " [ 3  7 11]]\n"
          ]
        }
      ]
    },
    {
      "cell_type": "code",
      "source": [
        "#ravel -- converts nd array to 1d\n",
        "a2.ravel()"
      ],
      "metadata": {
        "colab": {
          "base_uri": "https://localhost:8080/"
        },
        "id": "8hKddmhz2MoL",
        "outputId": "95fb028f-83b0-4236-86c6-0e4bb109f3a0"
      },
      "execution_count": 101,
      "outputs": [
        {
          "output_type": "execute_result",
          "data": {
            "text/plain": [
              "array([ 0,  1,  2,  3,  4,  5,  6,  7,  8,  9, 10, 11])"
            ]
          },
          "metadata": {},
          "execution_count": 101
        }
      ]
    },
    {
      "cell_type": "markdown",
      "source": [
        "#STACKING--VSTACK,HSTACK"
      ],
      "metadata": {
        "id": "Ypv3_h1y2Y7P"
      }
    },
    {
      "cell_type": "code",
      "source": [
        "#horizontal stacking\n",
        "a1=np.random.random((2,2))\n",
        "a2=np.random.random((2,2))\n",
        "print(a1)\n",
        "print()\n",
        "print(a2)\n",
        "print()"
      ],
      "metadata": {
        "colab": {
          "base_uri": "https://localhost:8080/"
        },
        "id": "vvUCGdni2WNY",
        "outputId": "1587cd21-0828-44a5-802b-de3c9cb7b5c7"
      },
      "execution_count": 102,
      "outputs": [
        {
          "output_type": "stream",
          "name": "stdout",
          "text": [
            "[[0.63117993 0.10421114]\n",
            " [0.96831164 0.48410824]]\n",
            "[[0.88166542 0.70509634]\n",
            " [0.57877537 0.72607919]]\n"
          ]
        }
      ]
    },
    {
      "cell_type": "code",
      "source": [
        "print(np.hstack((a1,a2)))\n",
        "print(np.vstack((a1,a2)))"
      ],
      "metadata": {
        "colab": {
          "base_uri": "https://localhost:8080/"
        },
        "id": "1V9YK--631qd",
        "outputId": "19e399eb-8e9a-48a8-ba84-539f193ecfeb"
      },
      "execution_count": 104,
      "outputs": [
        {
          "output_type": "stream",
          "name": "stdout",
          "text": [
            "[[0.63117993 0.10421114 0.88166542 0.70509634]\n",
            " [0.96831164 0.48410824 0.57877537 0.72607919]]\n",
            "[[0.63117993 0.10421114]\n",
            " [0.96831164 0.48410824]\n",
            " [0.88166542 0.70509634]\n",
            " [0.57877537 0.72607919]]\n"
          ]
        }
      ]
    },
    {
      "cell_type": "markdown",
      "source": [
        "#SPLITTING"
      ],
      "metadata": {
        "id": "PbA0dfHj4VJk"
      }
    },
    {
      "cell_type": "code",
      "source": [
        "#hsplit and vsplit"
      ],
      "metadata": {
        "id": "g5shVboU4Ff7"
      },
      "execution_count": 105,
      "outputs": []
    },
    {
      "cell_type": "code",
      "source": [],
      "metadata": {
        "id": "uySI2OeK4ksv"
      },
      "execution_count": null,
      "outputs": []
    }
  ]
}